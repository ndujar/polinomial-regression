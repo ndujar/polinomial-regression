{
 "cells": [
  {
   "cell_type": "markdown",
   "metadata": {},
   "source": [
    "## 1.-Get the dependencies ready\n",
    "\n",
    "We will basically need the essentials: numpy for some calculations and data conversions, pandas for using DataFrames, scipy's convexhull to create the boundary and matplotlib to make a visualization."
   ]
  },
  {
   "cell_type": "code",
   "execution_count": 1,
   "metadata": {},
   "outputs": [
    {
     "name": "stderr",
     "output_type": "stream",
     "text": [
      "/home/rr/anaconda2/envs/py35/lib/python3.5/importlib/_bootstrap.py:222: RuntimeWarning: numpy.dtype size changed, may indicate binary incompatibility. Expected 96, got 88\n",
      "  return f(*args, **kwds)\n",
      "/home/rr/anaconda2/envs/py35/lib/python3.5/importlib/_bootstrap.py:222: RuntimeWarning: numpy.dtype size changed, may indicate binary incompatibility. Expected 96, got 88\n",
      "  return f(*args, **kwds)\n"
     ]
    }
   ],
   "source": [
    "import numpy as np\n",
    "import pandas as pd\n",
    "import matplotlib.pyplot as plt\n",
    "import math\n",
    "from scipy.spatial import ConvexHull\n",
    "from math import sqrt, ceil"
   ]
  },
  {
   "cell_type": "markdown",
   "metadata": {},
   "source": [
    "## 2.-Create the points and their boundary"
   ]
  },
  {
   "cell_type": "code",
   "execution_count": 2,
   "metadata": {},
   "outputs": [
    {
     "data": {
      "text/plain": [
       "array([[0.85538658],\n",
       "       [0.91698152],\n",
       "       [0.885089  ],\n",
       "       [0.70486944]])"
      ]
     },
     "metadata": {},
     "output_type": "display_data"
    }
   ],
   "source": [
    "points = np.random.rand(30, 2)   # 30 random points in 2-D\n",
    "points_df = pd.DataFrame(points)\n",
    "x_values = points_df[0]\n",
    "y_values = points_df[1]\n",
    "\n",
    "hull = ConvexHull(points)\n",
    "hull_df = pd.DataFrame(hull.vertices).head(4)\n",
    "\n",
    "display(points[hull_df,0])"
   ]
  },
  {
   "cell_type": "code",
   "execution_count": 3,
   "metadata": {},
   "outputs": [
    {
     "data": {
      "text/plain": [
       "array([0.85538658, 0.91698152, 0.885089  , 0.70486944])"
      ]
     },
     "metadata": {},
     "output_type": "display_data"
    }
   ],
   "source": [
    "convex_x_points = []\n",
    "convex_y_points = []\n",
    "convex_x_points = np.array(convex_x_points)\n",
    "convex_y_points = np.array(convex_y_points)\n",
    "\n",
    "convex_x_points = np.append(convex_x_points, points[hull_df,0])\n",
    "convex_y_points = np.append(convex_y_points, points[hull_df,1])\n",
    "\n",
    "display(convex_x_points)"
   ]
  },
  {
   "cell_type": "code",
   "execution_count": 4,
   "metadata": {},
   "outputs": [
    {
     "data": {
      "image/png": "[encoded data removed]",
      "text/plain": [
       "<matplotlib.figure.Figure at 0x7f6da2237c50>"
      ]
     },
     "metadata": {},
     "output_type": "display_data"
    }
   ],
   "source": [
    "plt.plot(points[hull_df,0], points[hull_df,1], 'g--', lw=2)\n",
    "plt.plot(x_values, y_values, '.')\n",
    "plt.ylim(0,1)\n",
    "plt.show()"
   ]
  },
  {
   "cell_type": "markdown",
   "metadata": {},
   "source": [
    "## 3.-Get the polynomial regression"
   ]
  },
  {
   "cell_type": "code",
   "execution_count": 5,
   "metadata": {},
   "outputs": [
    {
     "data": {
      "image/png": "[encoded data removed]",
      "text/plain": [
       "<matplotlib.figure.Figure at 0x7f6da21f38d0>"
      ]
     },
     "metadata": {},
     "output_type": "display_data"
    }
   ],
   "source": [
    "z = np.polyfit(convex_x_points, convex_y_points, 2)\n",
    "p = np.poly1d(z)\n",
    "xp = np.linspace(0, 1, 100)\n",
    "_ = plt.plot(x_values, y_values, '.', xp, p(xp), '-')\n",
    "plt.ylim(0,1)\n",
    "plt.show()"
   ]
  },
  {
   "cell_type": "markdown",
   "metadata": {},
   "source": [
    "## 4.-Optimize the integral using the adaptive trapezoid rule\n",
    "The function adaptivetrap takes the polynomial we defined above and integrates it using the adaptive trapezoid rule from 0 to 10 with an error tolerance of 1E-5."
   ]
  },
  {
   "cell_type": "code",
   "execution_count": 6,
   "metadata": {},
   "outputs": [
    {
     "name": "stdout",
     "output_type": "stream",
     "text": [
      "14335.559708511528\n"
     ]
    }
   ],
   "source": [
    "def ti1(f,a,b):\n",
    "    return ((b-a)/2)*(f(a)+f(b))\n",
    "\n",
    "def diff2(f,x,h=1E-6):\n",
    "    r=(f(x-h)-2*f(x) + f(x+h))/float(h*h)\n",
    "    return r\n",
    "    \n",
    "def trapezint(f,a,b,n):\n",
    "    h=(b-a)/n\n",
    "    sum=0    \n",
    "    part1=(0.5)*h*(f(a)+f(b))\n",
    "    for i in range(1,n):\n",
    "        xi=a+i*h\n",
    "        sum=sum+f(xi)        \n",
    "    return part1+h*sum\n",
    "\n",
    "def adaptivetrap(f,a,b,ep):\n",
    "    \n",
    "    max=0    \n",
    "    step=float(abs(a-b)/1000)\n",
    "    i=0\n",
    "    while (i<1000):\n",
    "        i=i+1        \n",
    "        adj=a;\n",
    "        adj=a+step*i;\n",
    "        dval=diff2(f,adj)\n",
    "        if(abs(dval)>max):\n",
    "            max=abs(dval)\n",
    "            \n",
    "    h=sqrt(12*ep)*((b-a)*max)**.5\n",
    "    n=(b-a)/h        \n",
    "    return trapezint(f,a,b,int(ceil(n)))\n",
    "    \n",
    "print (adaptivetrap(p,0.0,10.0,1E-5))"
   ]
  },
  {
   "cell_type": "code",
   "execution_count": null,
   "metadata": {},
   "outputs": [],
   "source": []
  }
 ],
 "metadata": {
  "kernelspec": {
   "display_name": "Python 3",
   "language": "python",
   "name": "python3"
  },
  "language_info": {
   "codemirror_mode": {
    "name": "ipython",
    "version": 3
   },
   "file_extension": ".py",
   "mimetype": "text/x-python",
   "name": "python",
   "nbconvert_exporter": "python",
   "pygments_lexer": "ipython3",
   "version": "3.5.4"
  }
 },
 "nbformat": 4,
 "nbformat_minor": 2
}
